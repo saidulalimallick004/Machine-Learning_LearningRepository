{
 "cells": [
  {
   "cell_type": "markdown",
   "metadata": {},
   "source": [
    "# Introductions to Pands"
   ]
  },
  {
   "cell_type": "code",
   "execution_count": 2,
   "metadata": {},
   "outputs": [],
   "source": [
    "import numpy as np\n",
    "import pandas as pd"
   ]
  },
  {
   "cell_type": "markdown",
   "metadata": {},
   "source": [
    "* Series"
   ]
  },
  {
   "cell_type": "markdown",
   "metadata": {},
   "source": [
    "# Series"
   ]
  },
  {
   "cell_type": "code",
   "execution_count": 31,
   "metadata": {},
   "outputs": [
    {
     "data": {
      "text/plain": [
       "0      India\n",
       "1     Canada\n",
       "2    Germany\n",
       "dtype: object"
      ]
     },
     "execution_count": 31,
     "metadata": {},
     "output_type": "execute_result"
    }
   ],
   "source": [
    "my_list1=['India', 'Canada','Germany']\n",
    "pd.Series(my_list1)\n"
   ]
  },
  {
   "cell_type": "code",
   "execution_count": 32,
   "metadata": {},
   "outputs": [
    {
     "data": {
      "text/plain": [
       "0    7012\n",
       "1    8964\n",
       "2     854\n",
       "dtype: int64"
      ]
     },
     "execution_count": 32,
     "metadata": {},
     "output_type": "execute_result"
    }
   ],
   "source": [
    "my_list2=[7012,8964,854]\n",
    "pd.Series(my_list2)"
   ]
  },
  {
   "cell_type": "code",
   "execution_count": 33,
   "metadata": {},
   "outputs": [
    {
     "name": "stdout",
     "output_type": "stream",
     "text": [
      "India      7012\n",
      "Canada     8964\n",
      "Germany     854\n",
      "dtype: int64\n"
     ]
    }
   ],
   "source": [
    "l=pd.Series(data=my_list2, index=my_list1)\n",
    "print(l)"
   ]
  },
  {
   "cell_type": "markdown",
   "metadata": {},
   "source": [
    "* Series using Random"
   ]
  },
  {
   "cell_type": "code",
   "execution_count": 34,
   "metadata": {},
   "outputs": [
    {
     "name": "stdout",
     "output_type": "stream",
     "text": [
      "Supriya    64\n",
      "Sneha      11\n",
      "Pritam     84\n",
      "Mona       51\n",
      "dtype: int32\n"
     ]
    }
   ],
   "source": [
    "data1=np.random.randint(1,100,4)\n",
    "\n",
    "name= ['Supriya','Sneha', 'Pritam', 'Mona']\n",
    "\n",
    "\n",
    "dataSeries=pd.Series(data1,name)\n",
    "print(dataSeries)"
   ]
  },
  {
   "cell_type": "markdown",
   "metadata": {},
   "source": [
    "* Dictonary to Data Series"
   ]
  },
  {
   "cell_type": "code",
   "execution_count": 35,
   "metadata": {},
   "outputs": [
    {
     "name": "stdout",
     "output_type": "stream",
     "text": [
      "Supriya    19\n",
      "Sneha      23\n",
      "Pritam     70\n",
      "Mona       50\n",
      "dtype: int64\n"
     ]
    }
   ],
   "source": [
    "my_dict1={\n",
    "    'Supriya': 19,\n",
    "    'Sneha':23,\n",
    "    'Pritam':70,\n",
    "    'Mona':50\n",
    "}\n",
    "\n",
    "print(pd.Series(my_dict1))"
   ]
  },
  {
   "cell_type": "markdown",
   "metadata": {},
   "source": [
    "* Named Index"
   ]
  },
  {
   "cell_type": "code",
   "execution_count": 37,
   "metadata": {},
   "outputs": [],
   "source": [
    "q1={\n",
    "    'mom': 100,\n",
    "    'dad':101,\n",
    "    'sister':50,\n",
    "    'brother':45\n",
    "}"
   ]
  },
  {
   "cell_type": "code",
   "execution_count": 38,
   "metadata": {},
   "outputs": [
    {
     "name": "stdout",
     "output_type": "stream",
     "text": [
      "mom        100\n",
      "dad        101\n",
      "sister      50\n",
      "brother     45\n",
      "dtype: int64\n"
     ]
    }
   ],
   "source": [
    "Q1=pd.Series(q1)\n",
    "print(Q1)"
   ]
  },
  {
   "cell_type": "code",
   "execution_count": null,
   "metadata": {},
   "outputs": [
    {
     "name": "stdout",
     "output_type": "stream",
     "text": [
      "100\n",
      "101\n",
      "\n",
      "\n"
     ]
    }
   ],
   "source": [
    "print(Q1['mom'])\n",
    "print(Q1.iloc[1])"
   ]
  }
 ],
 "metadata": {
  "kernelspec": {
   "display_name": ".TheEnvForMachineLearning",
   "language": "python",
   "name": "python3"
  },
  "language_info": {
   "codemirror_mode": {
    "name": "ipython",
    "version": 3
   },
   "file_extension": ".py",
   "mimetype": "text/x-python",
   "name": "python",
   "nbconvert_exporter": "python",
   "pygments_lexer": "ipython3",
   "version": "3.13.2"
  }
 },
 "nbformat": 4,
 "nbformat_minor": 2
}

{
 "cells": [
  {
   "cell_type": "code",
   "execution_count": 2,
   "metadata": {},
   "outputs": [],
   "source": [
    "import pandas as pd\n",
    "import numpy as np\n"
   ]
  },
  {
   "cell_type": "code",
   "execution_count": 3,
   "metadata": {},
   "outputs": [
    {
     "name": "stderr",
     "output_type": "stream",
     "text": [
      "C:\\Users\\saidu\\AppData\\Local\\Temp\\ipykernel_16080\\714737038.py:1: DtypeWarning: Columns (6) have mixed types. Specify dtype option on import or set low_memory=False.\n",
      "  data=pd.read_csv(\"Datasheets/Processed_Testing_Data.csv\")\n"
     ]
    }
   ],
   "source": [
    "data=pd.read_csv(\"Datasheets/Processed_Testing_Data.csv\")"
   ]
  },
  {
   "cell_type": "code",
   "execution_count": 4,
   "metadata": {},
   "outputs": [
    {
     "data": {
      "application/vnd.microsoft.datawrangler.viewer.v0+json": {
       "columns": [
        {
         "name": "index",
         "rawType": "int64",
         "type": "integer"
        },
        {
         "name": "1",
         "rawType": "int64",
         "type": "integer"
        },
        {
         "name": " Edgar's Lunch  ",
         "rawType": "object",
         "type": "string"
        },
        {
         "name": "1998",
         "rawType": "float64",
         "type": "float"
        },
        {
         "name": " thriller ",
         "rawType": "object",
         "type": "string"
        },
        {
         "name": " L.R. Brane loves his life - his car, his apartment, his job, but especially his girlfriend, Vespa. One day while showering, Vespa runs out of shampoo. L.R. runs across the street to a convenience store to buy some more, a quick trip of no more than a few minutes. When he returns, Vespa is gone and every trace of her existence has been wiped out. L.R.'s life becomes a tortured existence as one strange event after another occurs to confirm in his mind that a conspiracy is working against his finding Vespa.",
         "rawType": "object",
         "type": "string"
        },
        {
         "name": "Unnamed: 5",
         "rawType": "object",
         "type": "unknown"
        },
        {
         "name": "Unnamed: 6",
         "rawType": "object",
         "type": "unknown"
        },
        {
         "name": "Unnamed: 7",
         "rawType": "float64",
         "type": "float"
        },
        {
         "name": "Unnamed: 8",
         "rawType": "float64",
         "type": "float"
        },
        {
         "name": "Unnamed: 9",
         "rawType": "float64",
         "type": "float"
        },
        {
         "name": "Unnamed: 10",
         "rawType": "float64",
         "type": "float"
        },
        {
         "name": "Unnamed: 11",
         "rawType": "float64",
         "type": "float"
        },
        {
         "name": "Unnamed: 12",
         "rawType": "float64",
         "type": "float"
        },
        {
         "name": "Unnamed: 13",
         "rawType": "float64",
         "type": "float"
        },
        {
         "name": "Unnamed: 14",
         "rawType": "float64",
         "type": "float"
        },
        {
         "name": "Unnamed: 15",
         "rawType": "float64",
         "type": "float"
        },
        {
         "name": "Unnamed: 16",
         "rawType": "float64",
         "type": "float"
        },
        {
         "name": "Unnamed: 17",
         "rawType": "float64",
         "type": "float"
        },
        {
         "name": "Unnamed: 18",
         "rawType": "float64",
         "type": "float"
        },
        {
         "name": "Unnamed: 19",
         "rawType": "float64",
         "type": "float"
        },
        {
         "name": "Unnamed: 20",
         "rawType": "float64",
         "type": "float"
        },
        {
         "name": "Unnamed: 21",
         "rawType": "float64",
         "type": "float"
        },
        {
         "name": "Unnamed: 22",
         "rawType": "float64",
         "type": "float"
        },
        {
         "name": "Unnamed: 23",
         "rawType": "float64",
         "type": "float"
        },
        {
         "name": "Unnamed: 24",
         "rawType": "float64",
         "type": "float"
        },
        {
         "name": "Unnamed: 25",
         "rawType": "float64",
         "type": "float"
        },
        {
         "name": "Unnamed: 26",
         "rawType": "float64",
         "type": "float"
        },
        {
         "name": "Unnamed: 27",
         "rawType": "float64",
         "type": "float"
        },
        {
         "name": "Unnamed: 28",
         "rawType": "float64",
         "type": "float"
        },
        {
         "name": "Unnamed: 29",
         "rawType": "float64",
         "type": "float"
        },
        {
         "name": "Unnamed: 30",
         "rawType": "float64",
         "type": "float"
        },
        {
         "name": "Unnamed: 31",
         "rawType": "float64",
         "type": "float"
        },
        {
         "name": "Unnamed: 32",
         "rawType": "float64",
         "type": "float"
        },
        {
         "name": "Unnamed: 33",
         "rawType": "float64",
         "type": "float"
        },
        {
         "name": "Unnamed: 34",
         "rawType": "float64",
         "type": "float"
        },
        {
         "name": "Unnamed: 35",
         "rawType": "float64",
         "type": "float"
        },
        {
         "name": "Unnamed: 36",
         "rawType": "float64",
         "type": "float"
        }
       ],
       "conversionMethod": "pd.DataFrame",
       "ref": "b2ab317a-b2db-4995-ac81-a81176b277d7",
       "rows": [
        [
         "0",
         "2",
         " La guerra de papá  ",
         "1977.0",
         " comedy ",
         " Spain, March 1964: Quico is a very naughty child of three belonging to a wealthy middle-class family. Since Cristina's birth, he feels he has lost the privileged position of \"prince\" of the house for his eight months old sister. So, with his brother Juan, who is eight years old and is quite disobedient, spend their time committing prank after prank, causing the resulting anger of his mother, the nanny and the old housemaid. The rest of the family members are two much older brothers, his resigned mother and a retrograde father of authoritarian ideas. But many years have passed, and the civil war that won the despot Don Pablo is simply for their children \"Dad's war\".",
         null,
         null,
         null,
         null,
         null,
         null,
         null,
         null,
         null,
         null,
         null,
         null,
         null,
         null,
         null,
         null,
         null,
         null,
         null,
         null,
         null,
         null,
         null,
         null,
         null,
         null,
         null,
         null,
         null,
         null,
         null,
         null
        ],
        [
         "1",
         "3",
         " Off the Beaten Track  ",
         "2010.0",
         " documentary ",
         " One year in the life of Albin and his family of shepherds in the North of Transylvania. In direct cinema style, this documentary follows their day to day routines, and their struggle to adapt to a new world where traditions are gradually replaced by modern values. Since joining the EU, Romania has been facing, like several other Eastern European countries, the pressure of modern values, introducing in farmer's lives the cruel notion of competition, the temptation of migrating to the higher salaries abroad, and the marginalization of locally produced food against industrial products.",
         null,
         null,
         null,
         null,
         null,
         null,
         null,
         null,
         null,
         null,
         null,
         null,
         null,
         null,
         null,
         null,
         null,
         null,
         null,
         null,
         null,
         null,
         null,
         null,
         null,
         null,
         null,
         null,
         null,
         null,
         null,
         null
        ],
        [
         "2",
         "4",
         " Meu Amigo Hindu  ",
         "2015.0",
         " drama ",
         " His father has died, he hasn't spoken with his brother for about 10 years and has a serious cancer. Diego is a talented film director with difficulty to deal with his sickness, which is making him lose his friends and family. His best friend and doctor Ricardo gives him the news that he needs a bone marrow transplantation, otherwise he'll die. He gets married to a beautiful woman, Livia, just before going to Seattle to get treatment. There, he undergoes numerous medical procedures. During treatment, he meets an Hindu boy, with whom he plays and whom he tells amazing stories. Odds are against him and when stakes are the highest, Diego gets a visit from a very uncommon man.",
         null,
         null,
         null,
         null,
         null,
         null,
         null,
         null,
         null,
         null,
         null,
         null,
         null,
         null,
         null,
         null,
         null,
         null,
         null,
         null,
         null,
         null,
         null,
         null,
         null,
         null,
         null,
         null,
         null,
         null,
         null,
         null
        ],
        [
         "3",
         "5",
         " Er nu zhai  ",
         "1955.0",
         " drama ",
         " Before he was known internationally as a martial arts superstar, Bruce Lee had appeared in a handful of Hong Kong films as a child star in the 1940s One of these early films was The More the Merrier , a.k.a. We Owe it to Our Children from the Union Film Enterprise, a family melodrama written and directed by renowned filmmaker Chin Chien (My Intimate Partners). Featuring the 14-year-old Bruce Lee and future Cantonese Opera star Yuen Siu Fai, the B&W film revolves around accountant Ming (played by Cheung Wood Yau) and his wife (Tsi Lo Lin) who suffers a miscarriage in an car accident. The couple decides to adopt a baby girl, not knowing that she's the daughter given up by Ming's poor co-worker who struggles to feed a bunch of kids. Bruce Lee plays the slacker son of the landlord (Ko Lo Chuen).",
         null,
         null,
         null,
         null,
         null,
         null,
         null,
         null,
         null,
         null,
         null,
         null,
         null,
         null,
         null,
         null,
         null,
         null,
         null,
         null,
         null,
         null,
         null,
         null,
         null,
         null,
         null,
         null,
         null,
         null,
         null,
         null
        ],
        [
         "4",
         "6",
         " Riddle Room  ",
         "2016.0",
         " horror ",
         " Emily Burns is being held captive in a room with no idea as to why or how she got there. Determined to escape and return to her daughter and husband, Emily discovers clues within the room that help explain what she's doing there. They even provide clues about who she is...but will they help her escape?",
         null,
         null,
         null,
         null,
         null,
         null,
         null,
         null,
         null,
         null,
         null,
         null,
         null,
         null,
         null,
         null,
         null,
         null,
         null,
         null,
         null,
         null,
         null,
         null,
         null,
         null,
         null,
         null,
         null,
         null,
         null,
         null
        ]
       ],
       "shape": {
        "columns": 37,
        "rows": 5
       }
      },
      "text/html": [
       "<div>\n",
       "<style scoped>\n",
       "    .dataframe tbody tr th:only-of-type {\n",
       "        vertical-align: middle;\n",
       "    }\n",
       "\n",
       "    .dataframe tbody tr th {\n",
       "        vertical-align: top;\n",
       "    }\n",
       "\n",
       "    .dataframe thead th {\n",
       "        text-align: right;\n",
       "    }\n",
       "</style>\n",
       "<table border=\"1\" class=\"dataframe\">\n",
       "  <thead>\n",
       "    <tr style=\"text-align: right;\">\n",
       "      <th></th>\n",
       "      <th>1</th>\n",
       "      <th>Edgar's Lunch</th>\n",
       "      <th>1998</th>\n",
       "      <th>thriller</th>\n",
       "      <th>L.R. Brane loves his life - his car, his apartment, his job, but especially his girlfriend, Vespa. One day while showering, Vespa runs out of shampoo. L.R. runs across the street to a convenience store to buy some more, a quick trip of no more than a few minutes. When he returns, Vespa is gone and every trace of her existence has been wiped out. L.R.'s life becomes a tortured existence as one strange event after another occurs to confirm in his mind that a conspiracy is working against his finding Vespa.</th>\n",
       "      <th>Unnamed: 5</th>\n",
       "      <th>Unnamed: 6</th>\n",
       "      <th>Unnamed: 7</th>\n",
       "      <th>Unnamed: 8</th>\n",
       "      <th>Unnamed: 9</th>\n",
       "      <th>...</th>\n",
       "      <th>Unnamed: 27</th>\n",
       "      <th>Unnamed: 28</th>\n",
       "      <th>Unnamed: 29</th>\n",
       "      <th>Unnamed: 30</th>\n",
       "      <th>Unnamed: 31</th>\n",
       "      <th>Unnamed: 32</th>\n",
       "      <th>Unnamed: 33</th>\n",
       "      <th>Unnamed: 34</th>\n",
       "      <th>Unnamed: 35</th>\n",
       "      <th>Unnamed: 36</th>\n",
       "    </tr>\n",
       "  </thead>\n",
       "  <tbody>\n",
       "    <tr>\n",
       "      <th>0</th>\n",
       "      <td>2</td>\n",
       "      <td>La guerra de papá</td>\n",
       "      <td>1977.0</td>\n",
       "      <td>comedy</td>\n",
       "      <td>Spain, March 1964: Quico is a very naughty ch...</td>\n",
       "      <td>NaN</td>\n",
       "      <td>NaN</td>\n",
       "      <td>NaN</td>\n",
       "      <td>NaN</td>\n",
       "      <td>NaN</td>\n",
       "      <td>...</td>\n",
       "      <td>NaN</td>\n",
       "      <td>NaN</td>\n",
       "      <td>NaN</td>\n",
       "      <td>NaN</td>\n",
       "      <td>NaN</td>\n",
       "      <td>NaN</td>\n",
       "      <td>NaN</td>\n",
       "      <td>NaN</td>\n",
       "      <td>NaN</td>\n",
       "      <td>NaN</td>\n",
       "    </tr>\n",
       "    <tr>\n",
       "      <th>1</th>\n",
       "      <td>3</td>\n",
       "      <td>Off the Beaten Track</td>\n",
       "      <td>2010.0</td>\n",
       "      <td>documentary</td>\n",
       "      <td>One year in the life of Albin and his family ...</td>\n",
       "      <td>NaN</td>\n",
       "      <td>NaN</td>\n",
       "      <td>NaN</td>\n",
       "      <td>NaN</td>\n",
       "      <td>NaN</td>\n",
       "      <td>...</td>\n",
       "      <td>NaN</td>\n",
       "      <td>NaN</td>\n",
       "      <td>NaN</td>\n",
       "      <td>NaN</td>\n",
       "      <td>NaN</td>\n",
       "      <td>NaN</td>\n",
       "      <td>NaN</td>\n",
       "      <td>NaN</td>\n",
       "      <td>NaN</td>\n",
       "      <td>NaN</td>\n",
       "    </tr>\n",
       "    <tr>\n",
       "      <th>2</th>\n",
       "      <td>4</td>\n",
       "      <td>Meu Amigo Hindu</td>\n",
       "      <td>2015.0</td>\n",
       "      <td>drama</td>\n",
       "      <td>His father has died, he hasn't spoken with hi...</td>\n",
       "      <td>NaN</td>\n",
       "      <td>NaN</td>\n",
       "      <td>NaN</td>\n",
       "      <td>NaN</td>\n",
       "      <td>NaN</td>\n",
       "      <td>...</td>\n",
       "      <td>NaN</td>\n",
       "      <td>NaN</td>\n",
       "      <td>NaN</td>\n",
       "      <td>NaN</td>\n",
       "      <td>NaN</td>\n",
       "      <td>NaN</td>\n",
       "      <td>NaN</td>\n",
       "      <td>NaN</td>\n",
       "      <td>NaN</td>\n",
       "      <td>NaN</td>\n",
       "    </tr>\n",
       "    <tr>\n",
       "      <th>3</th>\n",
       "      <td>5</td>\n",
       "      <td>Er nu zhai</td>\n",
       "      <td>1955.0</td>\n",
       "      <td>drama</td>\n",
       "      <td>Before he was known internationally as a mart...</td>\n",
       "      <td>NaN</td>\n",
       "      <td>NaN</td>\n",
       "      <td>NaN</td>\n",
       "      <td>NaN</td>\n",
       "      <td>NaN</td>\n",
       "      <td>...</td>\n",
       "      <td>NaN</td>\n",
       "      <td>NaN</td>\n",
       "      <td>NaN</td>\n",
       "      <td>NaN</td>\n",
       "      <td>NaN</td>\n",
       "      <td>NaN</td>\n",
       "      <td>NaN</td>\n",
       "      <td>NaN</td>\n",
       "      <td>NaN</td>\n",
       "      <td>NaN</td>\n",
       "    </tr>\n",
       "    <tr>\n",
       "      <th>4</th>\n",
       "      <td>6</td>\n",
       "      <td>Riddle Room</td>\n",
       "      <td>2016.0</td>\n",
       "      <td>horror</td>\n",
       "      <td>Emily Burns is being held captive in a room w...</td>\n",
       "      <td>NaN</td>\n",
       "      <td>NaN</td>\n",
       "      <td>NaN</td>\n",
       "      <td>NaN</td>\n",
       "      <td>NaN</td>\n",
       "      <td>...</td>\n",
       "      <td>NaN</td>\n",
       "      <td>NaN</td>\n",
       "      <td>NaN</td>\n",
       "      <td>NaN</td>\n",
       "      <td>NaN</td>\n",
       "      <td>NaN</td>\n",
       "      <td>NaN</td>\n",
       "      <td>NaN</td>\n",
       "      <td>NaN</td>\n",
       "      <td>NaN</td>\n",
       "    </tr>\n",
       "  </tbody>\n",
       "</table>\n",
       "<p>5 rows × 37 columns</p>\n",
       "</div>"
      ],
      "text/plain": [
       "   1          Edgar's Lunch      1998      thriller   \\\n",
       "0  2      La guerra de papá    1977.0        comedy    \n",
       "1  3   Off the Beaten Track    2010.0   documentary    \n",
       "2  4        Meu Amigo Hindu    2015.0         drama    \n",
       "3  5             Er nu zhai    1955.0         drama    \n",
       "4  6            Riddle Room    2016.0        horror    \n",
       "\n",
       "   L.R. Brane loves his life - his car, his apartment, his job, but especially his girlfriend, Vespa. One day while showering, Vespa runs out of shampoo. L.R. runs across the street to a convenience store to buy some more, a quick trip of no more than a few minutes. When he returns, Vespa is gone and every trace of her existence has been wiped out. L.R.'s life becomes a tortured existence as one strange event after another occurs to confirm in his mind that a conspiracy is working against his finding Vespa.  \\\n",
       "0   Spain, March 1964: Quico is a very naughty ch...                                                                                                                                                                                                                                                                                                                                                                                                                                                                               \n",
       "1   One year in the life of Albin and his family ...                                                                                                                                                                                                                                                                                                                                                                                                                                                                               \n",
       "2   His father has died, he hasn't spoken with hi...                                                                                                                                                                                                                                                                                                                                                                                                                                                                               \n",
       "3   Before he was known internationally as a mart...                                                                                                                                                                                                                                                                                                                                                                                                                                                                               \n",
       "4   Emily Burns is being held captive in a room w...                                                                                                                                                                                                                                                                                                                                                                                                                                                                               \n",
       "\n",
       "  Unnamed: 5 Unnamed: 6  Unnamed: 7  Unnamed: 8  Unnamed: 9  ...  Unnamed: 27  \\\n",
       "0        NaN        NaN         NaN         NaN         NaN  ...          NaN   \n",
       "1        NaN        NaN         NaN         NaN         NaN  ...          NaN   \n",
       "2        NaN        NaN         NaN         NaN         NaN  ...          NaN   \n",
       "3        NaN        NaN         NaN         NaN         NaN  ...          NaN   \n",
       "4        NaN        NaN         NaN         NaN         NaN  ...          NaN   \n",
       "\n",
       "   Unnamed: 28  Unnamed: 29  Unnamed: 30  Unnamed: 31  Unnamed: 32  \\\n",
       "0          NaN          NaN          NaN          NaN          NaN   \n",
       "1          NaN          NaN          NaN          NaN          NaN   \n",
       "2          NaN          NaN          NaN          NaN          NaN   \n",
       "3          NaN          NaN          NaN          NaN          NaN   \n",
       "4          NaN          NaN          NaN          NaN          NaN   \n",
       "\n",
       "   Unnamed: 33  Unnamed: 34  Unnamed: 35  Unnamed: 36  \n",
       "0          NaN          NaN          NaN          NaN  \n",
       "1          NaN          NaN          NaN          NaN  \n",
       "2          NaN          NaN          NaN          NaN  \n",
       "3          NaN          NaN          NaN          NaN  \n",
       "4          NaN          NaN          NaN          NaN  \n",
       "\n",
       "[5 rows x 37 columns]"
      ]
     },
     "execution_count": 4,
     "metadata": {},
     "output_type": "execute_result"
    }
   ],
   "source": [
    "data.head()"
   ]
  }
 ],
 "metadata": {
  "kernelspec": {
   "display_name": ".TheEnvForMachineLearning",
   "language": "python",
   "name": "python3"
  },
  "language_info": {
   "codemirror_mode": {
    "name": "ipython",
    "version": 3
   },
   "file_extension": ".py",
   "mimetype": "text/x-python",
   "name": "python",
   "nbconvert_exporter": "python",
   "pygments_lexer": "ipython3",
   "version": "3.13.2"
  }
 },
 "nbformat": 4,
 "nbformat_minor": 2
}

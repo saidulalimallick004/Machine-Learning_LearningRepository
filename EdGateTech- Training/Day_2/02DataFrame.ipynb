{
 "cells": [
  {
   "cell_type": "code",
   "execution_count": 2,
   "metadata": {},
   "outputs": [],
   "source": [
    "import pandas as pd \n",
    "import numpy as np"
   ]
  },
  {
   "cell_type": "code",
   "execution_count": null,
   "metadata": {},
   "outputs": [],
   "source": [
    "help(pd.DataFrame)"
   ]
  },
  {
   "cell_type": "code",
   "execution_count": 10,
   "metadata": {},
   "outputs": [
    {
     "name": "stdout",
     "output_type": "stream",
     "text": [
      "[[15 80 69]\n",
      " [37 28 83]\n",
      " [75 47 73]\n",
      " [ 3 72 53]]\n"
     ]
    }
   ],
   "source": [
    "my_data1= np.random.randint(1,100,(4,3))\n",
    "print(my_data1)"
   ]
  },
  {
   "cell_type": "code",
   "execution_count": 11,
   "metadata": {},
   "outputs": [],
   "source": [
    "my_index=['A','B','C','D']\n",
    "my_columns=['x','y','z']"
   ]
  },
  {
   "cell_type": "code",
   "execution_count": 12,
   "metadata": {},
   "outputs": [
    {
     "name": "stdout",
     "output_type": "stream",
     "text": [
      "    x   y   z\n",
      "A  15  80  69\n",
      "B  37  28  83\n",
      "C  75  47  73\n",
      "D   3  72  53\n"
     ]
    }
   ],
   "source": [
    "DF=pd.DataFrame(data=my_data1,index=my_index,columns=my_columns)\n",
    "print(DF)"
   ]
  },
  {
   "cell_type": "code",
   "execution_count": 14,
   "metadata": {},
   "outputs": [],
   "source": [
    "tipsDF= pd.read_csv('Datasheet/tips.csv')"
   ]
  },
  {
   "cell_type": "code",
   "execution_count": 15,
   "metadata": {},
   "outputs": [
    {
     "data": {
      "text/plain": [
       "(244, 11)"
      ]
     },
     "execution_count": 15,
     "metadata": {},
     "output_type": "execute_result"
    }
   ],
   "source": [
    "tipsDF.shape"
   ]
  },
  {
   "cell_type": "code",
   "execution_count": 16,
   "metadata": {},
   "outputs": [
    {
     "data": {
      "application/vnd.microsoft.datawrangler.viewer.v0+json": {
       "columns": [
        {
         "name": "index",
         "rawType": "int64",
         "type": "integer"
        },
        {
         "name": "total_bill",
         "rawType": "float64",
         "type": "float"
        },
        {
         "name": "tip",
         "rawType": "float64",
         "type": "float"
        },
        {
         "name": "sex",
         "rawType": "object",
         "type": "string"
        },
        {
         "name": "smoker",
         "rawType": "object",
         "type": "string"
        },
        {
         "name": "day",
         "rawType": "object",
         "type": "string"
        },
        {
         "name": "time",
         "rawType": "object",
         "type": "string"
        },
        {
         "name": "size",
         "rawType": "int64",
         "type": "integer"
        },
        {
         "name": "price_per_person",
         "rawType": "float64",
         "type": "float"
        },
        {
         "name": "Payer Name",
         "rawType": "object",
         "type": "string"
        },
        {
         "name": "CC Number",
         "rawType": "float64",
         "type": "float"
        },
        {
         "name": "Payment ID",
         "rawType": "object",
         "type": "string"
        }
       ],
       "conversionMethod": "pd.DataFrame",
       "ref": "efa5c7f0-6b41-42b9-813b-6f09d5a6ad0d",
       "rows": [
        [
         "0",
         "16.99",
         "1.01",
         "Female",
         "No",
         "Sun",
         "Dinner",
         "2",
         "8.49",
         "Christy Cunningham",
         "3560330000000000.0",
         "Sun2959"
        ],
        [
         "1",
         "10.34",
         "1.66",
         "Male",
         "No",
         "Sun",
         "Dinner",
         "3",
         "3.45",
         "Douglas Tucker",
         "4478070000000000.0",
         "Sun4608"
        ],
        [
         "2",
         "21.01",
         "3.5",
         "Male",
         "No",
         "Sun",
         "Dinner",
         "3",
         "7.0",
         "Travis Walters",
         "6011810000000000.0",
         "Sun4458"
        ],
        [
         "3",
         "23.68",
         "3.31",
         "Male",
         "No",
         "Sun",
         "Dinner",
         "2",
         "11.84",
         "Nathaniel Harris",
         "4676140000000000.0",
         "Sun5260"
        ],
        [
         "4",
         "24.59",
         "3.61",
         "Female",
         "No",
         "Sun",
         "Dinner",
         "4",
         "6.15",
         "Tonya Carter",
         "4832730000000000.0",
         "Sun2251"
        ]
       ],
       "shape": {
        "columns": 11,
        "rows": 5
       }
      },
      "text/html": [
       "<div>\n",
       "<style scoped>\n",
       "    .dataframe tbody tr th:only-of-type {\n",
       "        vertical-align: middle;\n",
       "    }\n",
       "\n",
       "    .dataframe tbody tr th {\n",
       "        vertical-align: top;\n",
       "    }\n",
       "\n",
       "    .dataframe thead th {\n",
       "        text-align: right;\n",
       "    }\n",
       "</style>\n",
       "<table border=\"1\" class=\"dataframe\">\n",
       "  <thead>\n",
       "    <tr style=\"text-align: right;\">\n",
       "      <th></th>\n",
       "      <th>total_bill</th>\n",
       "      <th>tip</th>\n",
       "      <th>sex</th>\n",
       "      <th>smoker</th>\n",
       "      <th>day</th>\n",
       "      <th>time</th>\n",
       "      <th>size</th>\n",
       "      <th>price_per_person</th>\n",
       "      <th>Payer Name</th>\n",
       "      <th>CC Number</th>\n",
       "      <th>Payment ID</th>\n",
       "    </tr>\n",
       "  </thead>\n",
       "  <tbody>\n",
       "    <tr>\n",
       "      <th>0</th>\n",
       "      <td>16.99</td>\n",
       "      <td>1.01</td>\n",
       "      <td>Female</td>\n",
       "      <td>No</td>\n",
       "      <td>Sun</td>\n",
       "      <td>Dinner</td>\n",
       "      <td>2</td>\n",
       "      <td>8.49</td>\n",
       "      <td>Christy Cunningham</td>\n",
       "      <td>3.560330e+15</td>\n",
       "      <td>Sun2959</td>\n",
       "    </tr>\n",
       "    <tr>\n",
       "      <th>1</th>\n",
       "      <td>10.34</td>\n",
       "      <td>1.66</td>\n",
       "      <td>Male</td>\n",
       "      <td>No</td>\n",
       "      <td>Sun</td>\n",
       "      <td>Dinner</td>\n",
       "      <td>3</td>\n",
       "      <td>3.45</td>\n",
       "      <td>Douglas Tucker</td>\n",
       "      <td>4.478070e+15</td>\n",
       "      <td>Sun4608</td>\n",
       "    </tr>\n",
       "    <tr>\n",
       "      <th>2</th>\n",
       "      <td>21.01</td>\n",
       "      <td>3.50</td>\n",
       "      <td>Male</td>\n",
       "      <td>No</td>\n",
       "      <td>Sun</td>\n",
       "      <td>Dinner</td>\n",
       "      <td>3</td>\n",
       "      <td>7.00</td>\n",
       "      <td>Travis Walters</td>\n",
       "      <td>6.011810e+15</td>\n",
       "      <td>Sun4458</td>\n",
       "    </tr>\n",
       "    <tr>\n",
       "      <th>3</th>\n",
       "      <td>23.68</td>\n",
       "      <td>3.31</td>\n",
       "      <td>Male</td>\n",
       "      <td>No</td>\n",
       "      <td>Sun</td>\n",
       "      <td>Dinner</td>\n",
       "      <td>2</td>\n",
       "      <td>11.84</td>\n",
       "      <td>Nathaniel Harris</td>\n",
       "      <td>4.676140e+15</td>\n",
       "      <td>Sun5260</td>\n",
       "    </tr>\n",
       "    <tr>\n",
       "      <th>4</th>\n",
       "      <td>24.59</td>\n",
       "      <td>3.61</td>\n",
       "      <td>Female</td>\n",
       "      <td>No</td>\n",
       "      <td>Sun</td>\n",
       "      <td>Dinner</td>\n",
       "      <td>4</td>\n",
       "      <td>6.15</td>\n",
       "      <td>Tonya Carter</td>\n",
       "      <td>4.832730e+15</td>\n",
       "      <td>Sun2251</td>\n",
       "    </tr>\n",
       "  </tbody>\n",
       "</table>\n",
       "</div>"
      ],
      "text/plain": [
       "   total_bill   tip     sex smoker  day    time  size  price_per_person  \\\n",
       "0       16.99  1.01  Female     No  Sun  Dinner     2              8.49   \n",
       "1       10.34  1.66    Male     No  Sun  Dinner     3              3.45   \n",
       "2       21.01  3.50    Male     No  Sun  Dinner     3              7.00   \n",
       "3       23.68  3.31    Male     No  Sun  Dinner     2             11.84   \n",
       "4       24.59  3.61  Female     No  Sun  Dinner     4              6.15   \n",
       "\n",
       "           Payer Name     CC Number Payment ID  \n",
       "0  Christy Cunningham  3.560330e+15    Sun2959  \n",
       "1      Douglas Tucker  4.478070e+15    Sun4608  \n",
       "2      Travis Walters  6.011810e+15    Sun4458  \n",
       "3    Nathaniel Harris  4.676140e+15    Sun5260  \n",
       "4        Tonya Carter  4.832730e+15    Sun2251  "
      ]
     },
     "execution_count": 16,
     "metadata": {},
     "output_type": "execute_result"
    }
   ],
   "source": [
    "tipsDF.head()"
   ]
  },
  {
   "cell_type": "code",
   "execution_count": 17,
   "metadata": {},
   "outputs": [
    {
     "data": {
      "text/plain": [
       "<bound method DataFrame.info of      total_bill   tip     sex smoker   day    time  size  price_per_person  \\\n",
       "0         16.99  1.01  Female     No   Sun  Dinner     2              8.49   \n",
       "1         10.34  1.66    Male     No   Sun  Dinner     3              3.45   \n",
       "2         21.01  3.50    Male     No   Sun  Dinner     3              7.00   \n",
       "3         23.68  3.31    Male     No   Sun  Dinner     2             11.84   \n",
       "4         24.59  3.61  Female     No   Sun  Dinner     4              6.15   \n",
       "..          ...   ...     ...    ...   ...     ...   ...               ...   \n",
       "239       29.03  5.92    Male     No   Sat  Dinner     3              9.68   \n",
       "240       27.18  2.00  Female    Yes   Sat  Dinner     2             13.59   \n",
       "241       22.67  2.00    Male    Yes   Sat  Dinner     2             11.34   \n",
       "242       17.82  1.75    Male     No   Sat  Dinner     2              8.91   \n",
       "243       18.78  3.00  Female     No  Thur  Dinner     2              9.39   \n",
       "\n",
       "             Payer Name     CC Number Payment ID  \n",
       "0    Christy Cunningham  3.560330e+15    Sun2959  \n",
       "1        Douglas Tucker  4.478070e+15    Sun4608  \n",
       "2        Travis Walters  6.011810e+15    Sun4458  \n",
       "3      Nathaniel Harris  4.676140e+15    Sun5260  \n",
       "4          Tonya Carter  4.832730e+15    Sun2251  \n",
       "..                  ...           ...        ...  \n",
       "239       Michael Avila  5.296070e+15    Sat2657  \n",
       "240      Monica Sanders  3.506810e+15    Sat1766  \n",
       "241          Keith Wong  6.011890e+15    Sat3880  \n",
       "242        Dennis Dixon  4.375220e+12      Sat17  \n",
       "243     Michelle Hardin  3.511450e+15    Thur672  \n",
       "\n",
       "[244 rows x 11 columns]>"
      ]
     },
     "execution_count": 17,
     "metadata": {},
     "output_type": "execute_result"
    }
   ],
   "source": [
    "tipsDF.info"
   ]
  },
  {
   "cell_type": "code",
   "execution_count": 18,
   "metadata": {},
   "outputs": [
    {
     "data": {
      "application/vnd.microsoft.datawrangler.viewer.v0+json": {
       "columns": [
        {
         "name": "index",
         "rawType": "object",
         "type": "string"
        },
        {
         "name": "total_bill",
         "rawType": "float64",
         "type": "float"
        },
        {
         "name": "tip",
         "rawType": "float64",
         "type": "float"
        },
        {
         "name": "size",
         "rawType": "float64",
         "type": "float"
        },
        {
         "name": "price_per_person",
         "rawType": "float64",
         "type": "float"
        },
        {
         "name": "CC Number",
         "rawType": "float64",
         "type": "float"
        }
       ],
       "conversionMethod": "pd.DataFrame",
       "ref": "b803d3e5-23c0-4d38-97f5-47918980c8b3",
       "rows": [
        [
         "count",
         "244.0",
         "244.0",
         "244.0",
         "244.0",
         "244.0"
        ],
        [
         "mean",
         "19.78594262295082",
         "2.99827868852459",
         "2.569672131147541",
         "7.888196721311474",
         "2563495461217591.5"
        ],
        [
         "std",
         "8.902411954856856",
         "1.3836381890011822",
         "0.9510998047322344",
         "2.9142341225118225",
         "2369339716610889.5"
        ],
        [
         "min",
         "3.07",
         "1.0",
         "1.0",
         "2.88",
         "60406789937.0"
        ],
        [
         "25%",
         "13.3475",
         "2.0",
         "2.0",
         "5.8",
         "30407325000000.0"
        ],
        [
         "50%",
         "17.795",
         "2.9",
         "2.0",
         "7.255",
         "3525320000000000.0"
        ],
        [
         "75%",
         "24.127499999999998",
         "3.5625",
         "3.0",
         "9.39",
         "4553675000000000.0"
        ],
        [
         "max",
         "50.81",
         "10.0",
         "6.0",
         "20.27",
         "6596450000000000.0"
        ]
       ],
       "shape": {
        "columns": 5,
        "rows": 8
       }
      },
      "text/html": [
       "<div>\n",
       "<style scoped>\n",
       "    .dataframe tbody tr th:only-of-type {\n",
       "        vertical-align: middle;\n",
       "    }\n",
       "\n",
       "    .dataframe tbody tr th {\n",
       "        vertical-align: top;\n",
       "    }\n",
       "\n",
       "    .dataframe thead th {\n",
       "        text-align: right;\n",
       "    }\n",
       "</style>\n",
       "<table border=\"1\" class=\"dataframe\">\n",
       "  <thead>\n",
       "    <tr style=\"text-align: right;\">\n",
       "      <th></th>\n",
       "      <th>total_bill</th>\n",
       "      <th>tip</th>\n",
       "      <th>size</th>\n",
       "      <th>price_per_person</th>\n",
       "      <th>CC Number</th>\n",
       "    </tr>\n",
       "  </thead>\n",
       "  <tbody>\n",
       "    <tr>\n",
       "      <th>count</th>\n",
       "      <td>244.000000</td>\n",
       "      <td>244.000000</td>\n",
       "      <td>244.000000</td>\n",
       "      <td>244.000000</td>\n",
       "      <td>2.440000e+02</td>\n",
       "    </tr>\n",
       "    <tr>\n",
       "      <th>mean</th>\n",
       "      <td>19.785943</td>\n",
       "      <td>2.998279</td>\n",
       "      <td>2.569672</td>\n",
       "      <td>7.888197</td>\n",
       "      <td>2.563495e+15</td>\n",
       "    </tr>\n",
       "    <tr>\n",
       "      <th>std</th>\n",
       "      <td>8.902412</td>\n",
       "      <td>1.383638</td>\n",
       "      <td>0.951100</td>\n",
       "      <td>2.914234</td>\n",
       "      <td>2.369340e+15</td>\n",
       "    </tr>\n",
       "    <tr>\n",
       "      <th>min</th>\n",
       "      <td>3.070000</td>\n",
       "      <td>1.000000</td>\n",
       "      <td>1.000000</td>\n",
       "      <td>2.880000</td>\n",
       "      <td>6.040679e+10</td>\n",
       "    </tr>\n",
       "    <tr>\n",
       "      <th>25%</th>\n",
       "      <td>13.347500</td>\n",
       "      <td>2.000000</td>\n",
       "      <td>2.000000</td>\n",
       "      <td>5.800000</td>\n",
       "      <td>3.040732e+13</td>\n",
       "    </tr>\n",
       "    <tr>\n",
       "      <th>50%</th>\n",
       "      <td>17.795000</td>\n",
       "      <td>2.900000</td>\n",
       "      <td>2.000000</td>\n",
       "      <td>7.255000</td>\n",
       "      <td>3.525320e+15</td>\n",
       "    </tr>\n",
       "    <tr>\n",
       "      <th>75%</th>\n",
       "      <td>24.127500</td>\n",
       "      <td>3.562500</td>\n",
       "      <td>3.000000</td>\n",
       "      <td>9.390000</td>\n",
       "      <td>4.553675e+15</td>\n",
       "    </tr>\n",
       "    <tr>\n",
       "      <th>max</th>\n",
       "      <td>50.810000</td>\n",
       "      <td>10.000000</td>\n",
       "      <td>6.000000</td>\n",
       "      <td>20.270000</td>\n",
       "      <td>6.596450e+15</td>\n",
       "    </tr>\n",
       "  </tbody>\n",
       "</table>\n",
       "</div>"
      ],
      "text/plain": [
       "       total_bill         tip        size  price_per_person     CC Number\n",
       "count  244.000000  244.000000  244.000000        244.000000  2.440000e+02\n",
       "mean    19.785943    2.998279    2.569672          7.888197  2.563495e+15\n",
       "std      8.902412    1.383638    0.951100          2.914234  2.369340e+15\n",
       "min      3.070000    1.000000    1.000000          2.880000  6.040679e+10\n",
       "25%     13.347500    2.000000    2.000000          5.800000  3.040732e+13\n",
       "50%     17.795000    2.900000    2.000000          7.255000  3.525320e+15\n",
       "75%     24.127500    3.562500    3.000000          9.390000  4.553675e+15\n",
       "max     50.810000   10.000000    6.000000         20.270000  6.596450e+15"
      ]
     },
     "execution_count": 18,
     "metadata": {},
     "output_type": "execute_result"
    }
   ],
   "source": [
    "tipsDF.describe()"
   ]
  },
  {
   "cell_type": "code",
   "execution_count": 20,
   "metadata": {},
   "outputs": [
    {
     "data": {
      "text/plain": [
       "0      1.01\n",
       "1      1.66\n",
       "2      3.50\n",
       "3      3.31\n",
       "4      3.61\n",
       "       ... \n",
       "239    5.92\n",
       "240    2.00\n",
       "241    2.00\n",
       "242    1.75\n",
       "243    3.00\n",
       "Name: tip, Length: 244, dtype: float64"
      ]
     },
     "execution_count": 20,
     "metadata": {},
     "output_type": "execute_result"
    }
   ],
   "source": [
    "tipsDF.tip"
   ]
  },
  {
   "cell_type": "code",
   "execution_count": 25,
   "metadata": {},
   "outputs": [
    {
     "data": {
      "application/vnd.microsoft.datawrangler.viewer.v0+json": {
       "columns": [
        {
         "name": "index",
         "rawType": "int64",
         "type": "integer"
        },
        {
         "name": "tip",
         "rawType": "float64",
         "type": "float"
        },
        {
         "name": "day",
         "rawType": "object",
         "type": "string"
        }
       ],
       "conversionMethod": "pd.DataFrame",
       "ref": "5db41cd1-69ae-4cea-bea2-80111ad10709",
       "rows": [
        [
         "0",
         "1.01",
         "Sun"
        ],
        [
         "1",
         "1.66",
         "Sun"
        ],
        [
         "2",
         "3.5",
         "Sun"
        ],
        [
         "3",
         "3.31",
         "Sun"
        ],
        [
         "4",
         "3.61",
         "Sun"
        ],
        [
         "5",
         "4.71",
         "Sun"
        ],
        [
         "6",
         "2.0",
         "Sun"
        ],
        [
         "7",
         "3.12",
         "Sun"
        ],
        [
         "8",
         "1.96",
         "Sun"
        ],
        [
         "9",
         "3.23",
         "Sun"
        ],
        [
         "10",
         "1.71",
         "Sun"
        ],
        [
         "11",
         "5.0",
         "Sun"
        ],
        [
         "12",
         "1.57",
         "Sun"
        ],
        [
         "13",
         "3.0",
         "Sun"
        ],
        [
         "14",
         "3.02",
         "Sun"
        ],
        [
         "15",
         "3.92",
         "Sun"
        ],
        [
         "16",
         "1.67",
         "Sun"
        ],
        [
         "17",
         "3.71",
         "Sun"
        ],
        [
         "18",
         "3.5",
         "Sun"
        ],
        [
         "19",
         "3.35",
         "Sat"
        ],
        [
         "20",
         "4.08",
         "Sat"
        ],
        [
         "21",
         "2.75",
         "Sat"
        ],
        [
         "22",
         "2.23",
         "Sat"
        ],
        [
         "23",
         "7.58",
         "Sat"
        ],
        [
         "24",
         "3.18",
         "Sat"
        ],
        [
         "25",
         "2.34",
         "Sat"
        ],
        [
         "26",
         "2.0",
         "Sat"
        ],
        [
         "27",
         "2.0",
         "Sat"
        ],
        [
         "28",
         "4.3",
         "Sat"
        ],
        [
         "29",
         "3.0",
         "Sat"
        ],
        [
         "30",
         "1.45",
         "Sat"
        ],
        [
         "31",
         "2.5",
         "Sat"
        ],
        [
         "32",
         "3.0",
         "Sat"
        ],
        [
         "33",
         "2.45",
         "Sat"
        ],
        [
         "34",
         "3.27",
         "Sat"
        ],
        [
         "35",
         "3.6",
         "Sat"
        ],
        [
         "36",
         "2.0",
         "Sat"
        ],
        [
         "37",
         "3.07",
         "Sat"
        ],
        [
         "38",
         "2.31",
         "Sat"
        ],
        [
         "39",
         "5.0",
         "Sat"
        ],
        [
         "40",
         "2.24",
         "Sat"
        ],
        [
         "41",
         "2.54",
         "Sun"
        ],
        [
         "42",
         "3.06",
         "Sun"
        ],
        [
         "43",
         "1.32",
         "Sun"
        ],
        [
         "44",
         "5.6",
         "Sun"
        ],
        [
         "45",
         "3.0",
         "Sun"
        ],
        [
         "46",
         "5.0",
         "Sun"
        ],
        [
         "47",
         "6.0",
         "Sun"
        ],
        [
         "48",
         "2.05",
         "Sun"
        ],
        [
         "49",
         "3.0",
         "Sun"
        ]
       ],
       "shape": {
        "columns": 2,
        "rows": 244
       }
      },
      "text/html": [
       "<div>\n",
       "<style scoped>\n",
       "    .dataframe tbody tr th:only-of-type {\n",
       "        vertical-align: middle;\n",
       "    }\n",
       "\n",
       "    .dataframe tbody tr th {\n",
       "        vertical-align: top;\n",
       "    }\n",
       "\n",
       "    .dataframe thead th {\n",
       "        text-align: right;\n",
       "    }\n",
       "</style>\n",
       "<table border=\"1\" class=\"dataframe\">\n",
       "  <thead>\n",
       "    <tr style=\"text-align: right;\">\n",
       "      <th></th>\n",
       "      <th>tip</th>\n",
       "      <th>day</th>\n",
       "    </tr>\n",
       "  </thead>\n",
       "  <tbody>\n",
       "    <tr>\n",
       "      <th>0</th>\n",
       "      <td>1.01</td>\n",
       "      <td>Sun</td>\n",
       "    </tr>\n",
       "    <tr>\n",
       "      <th>1</th>\n",
       "      <td>1.66</td>\n",
       "      <td>Sun</td>\n",
       "    </tr>\n",
       "    <tr>\n",
       "      <th>2</th>\n",
       "      <td>3.50</td>\n",
       "      <td>Sun</td>\n",
       "    </tr>\n",
       "    <tr>\n",
       "      <th>3</th>\n",
       "      <td>3.31</td>\n",
       "      <td>Sun</td>\n",
       "    </tr>\n",
       "    <tr>\n",
       "      <th>4</th>\n",
       "      <td>3.61</td>\n",
       "      <td>Sun</td>\n",
       "    </tr>\n",
       "    <tr>\n",
       "      <th>...</th>\n",
       "      <td>...</td>\n",
       "      <td>...</td>\n",
       "    </tr>\n",
       "    <tr>\n",
       "      <th>239</th>\n",
       "      <td>5.92</td>\n",
       "      <td>Sat</td>\n",
       "    </tr>\n",
       "    <tr>\n",
       "      <th>240</th>\n",
       "      <td>2.00</td>\n",
       "      <td>Sat</td>\n",
       "    </tr>\n",
       "    <tr>\n",
       "      <th>241</th>\n",
       "      <td>2.00</td>\n",
       "      <td>Sat</td>\n",
       "    </tr>\n",
       "    <tr>\n",
       "      <th>242</th>\n",
       "      <td>1.75</td>\n",
       "      <td>Sat</td>\n",
       "    </tr>\n",
       "    <tr>\n",
       "      <th>243</th>\n",
       "      <td>3.00</td>\n",
       "      <td>Thur</td>\n",
       "    </tr>\n",
       "  </tbody>\n",
       "</table>\n",
       "<p>244 rows × 2 columns</p>\n",
       "</div>"
      ],
      "text/plain": [
       "      tip   day\n",
       "0    1.01   Sun\n",
       "1    1.66   Sun\n",
       "2    3.50   Sun\n",
       "3    3.31   Sun\n",
       "4    3.61   Sun\n",
       "..    ...   ...\n",
       "239  5.92   Sat\n",
       "240  2.00   Sat\n",
       "241  2.00   Sat\n",
       "242  1.75   Sat\n",
       "243  3.00  Thur\n",
       "\n",
       "[244 rows x 2 columns]"
      ]
     },
     "execution_count": 25,
     "metadata": {},
     "output_type": "execute_result"
    }
   ],
   "source": [
    "tipsDF[['tip','day']]"
   ]
  }
 ],
 "metadata": {
  "kernelspec": {
   "display_name": ".TheEnvForMachineLearning",
   "language": "python",
   "name": "python3"
  },
  "language_info": {
   "codemirror_mode": {
    "name": "ipython",
    "version": 3
   },
   "file_extension": ".py",
   "mimetype": "text/x-python",
   "name": "python",
   "nbconvert_exporter": "python",
   "pygments_lexer": "ipython3",
   "version": "3.13.2"
  }
 },
 "nbformat": 4,
 "nbformat_minor": 2
}
